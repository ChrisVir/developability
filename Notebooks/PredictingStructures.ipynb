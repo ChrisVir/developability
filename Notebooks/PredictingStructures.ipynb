{
 "cells": [
  {
   "cell_type": "markdown",
   "id": "e3978259-8394-4e66-816c-e5a3eb82c954",
   "metadata": {},
   "source": [
    "### Objective: \n",
    "In this notebook, I am testing out the AbodyBuilder2 model from the ImmuneBuilder paper. \n",
    "To get it to work, I needed to start a new environment. I also downloaded the weights manually as it time out (at work). \n",
    "\n",
    "\n",
    "#### Import some packages"
   ]
  },
  {
   "cell_type": "code",
   "execution_count": 1,
   "id": "986e5105-2d8a-4b23-9742-594a94f7dd60",
   "metadata": {},
   "outputs": [
    {
     "data": {
      "application/vnd.jupyter.widget-view+json": {
       "model_id": "ac84dbd5b2dd443f87d813d591d0d8e9",
       "version_major": 2,
       "version_minor": 0
      },
      "text/plain": []
     },
     "metadata": {},
     "output_type": "display_data"
    }
   ],
   "source": [
    "import pandas as pd\n",
    "import nglview as ngl\n",
    "from ImmuneBuilder import  ABodyBuilder2\n",
    "from pathlib  import Path\n",
    "import matplotlib.pyplot as plt\n",
    "from Bio.PDB import PDBParser\n",
    "from Bio.PDB.PDBIO import PDBIO\n",
    "from tqdm.notebook import tqdm\n"
   ]
  },
  {
   "cell_type": "markdown",
   "id": "d7200808-9125-4edd-905c-d5a7fc363efb",
   "metadata": {},
   "source": [
    "#### Set up paths to an antibody. "
   ]
  },
  {
   "cell_type": "code",
   "execution_count": 13,
   "id": "493aacd4-57ec-4170-bffa-3d7b5a406157",
   "metadata": {},
   "outputs": [
    {
     "data": {
      "application/vnd.jupyter.widget-view+json": {
       "model_id": "fa2030740a414a79bdf2cbebaefa37b5",
       "version_major": 2,
       "version_minor": 0
      },
      "text/plain": [
       "NGLWidget()"
      ]
     },
     "metadata": {},
     "output_type": "display_data"
    }
   ],
   "source": [
    "desktop = Path('/Users/ChristopherRivera/Desktop')\n",
    "ab = desktop/'test.pdb'\n",
    "ngl.show_structure_file(str(ab))"
   ]
  },
  {
   "cell_type": "markdown",
   "id": "f466c7a1-6e7f-4ba6-a8eb-01075b36cca8",
   "metadata": {},
   "source": [
    "##### Code to renumber antibodies\n",
    "One of the issues with AbBuilder is that it renumbers antibodies which can cause a problem downstream. Below is code to renumber them. "
   ]
  },
  {
   "cell_type": "code",
   "execution_count": 14,
   "id": "cdf23a71-bb49-4a62-b273-16416a5fc2fd",
   "metadata": {},
   "outputs": [],
   "source": [
    "df = pd.read_csv(ab, delim_whitespace=True, skiprows = 2, header = None)"
   ]
  },
  {
   "cell_type": "code",
   "execution_count": 5,
   "id": "01e8ca23-2b8f-4b3b-97f2-6eba2b86ade6",
   "metadata": {},
   "outputs": [],
   "source": [
    "numbers = df.drop_duplicates(subset=[4, 5])[5].reset_index(drop=True)"
   ]
  },
  {
   "cell_type": "code",
   "execution_count": 6,
   "id": "8ce5a9fa-19f6-42d3-9b0c-be8d1c605509",
   "metadata": {},
   "outputs": [],
   "source": [
    "def renumber_pdb(input_pdb, output_pdb=None):\n",
    "    \"\"\"Renumbers residues for pdb file\n",
    "    Args: \n",
    "        input_pdb(str|Path): path to input pdb\n",
    "        output_pdb(str|Path): path to pdb for output\n",
    "    Returns: \n",
    "        None\n",
    "    \"\"\"\n",
    "\n",
    "    # parse the pdb and update numbers for each chain\n",
    "    parser = PDBParser()\n",
    "    struct= parser.get_structure('pdb', str(input_pdb))\n",
    "    for model in struct: \n",
    "        for chain in model:\n",
    "            num = 1\n",
    "            for residue in chain:\n",
    "                residue.id = (' ', num, ' ')\n",
    "                num+=1\n",
    "\n",
    "    # save the pdb\n",
    "    if not output_pdb: \n",
    "        output_pdb = Path(input_pdb).with_suffix('.renumbered.pdb')\n",
    "    pdb_io = PDBIO()\n",
    "    pdb_io.set_structure(struct)\n",
    "    pdb_io.save(str(output_pdb))\n",
    "    \n",
    "    "
   ]
  },
  {
   "cell_type": "code",
   "execution_count": 7,
   "id": "fd25df89-0255-402f-81ad-c6c24117f2e8",
   "metadata": {},
   "outputs": [],
   "source": [
    "renumber_pdb(ab)"
   ]
  },
  {
   "cell_type": "code",
   "execution_count": 8,
   "id": "37f91bb5-2519-4d69-9347-51ebe19e0f9a",
   "metadata": {},
   "outputs": [
    {
     "data": {
      "application/vnd.jupyter.widget-view+json": {
       "model_id": "440aba463e9e463d9f1730a9844928a4",
       "version_major": 2,
       "version_minor": 0
      },
      "text/plain": [
       "NGLWidget()"
      ]
     },
     "metadata": {},
     "output_type": "display_data"
    }
   ],
   "source": [
    "ab2 =str(desktop/ 'test.renumbered.pdb')\n",
    "ngl.show_structure_file(ab2)"
   ]
  },
  {
   "cell_type": "markdown",
   "id": "0addb46e-989d-4aaf-8a2e-9698467e5ecd",
   "metadata": {},
   "source": [
    "### Function for predicting pdb \n",
    "This is just a simple wrapper arround ImmuneBuilder AbodyBuilder2."
   ]
  },
  {
   "cell_type": "code",
   "execution_count": 9,
   "id": "0d6290b5-e7e3-45d8-8115-8bf19d11ebfd",
   "metadata": {},
   "outputs": [],
   "source": [
    "def predict_antibody_structures(sequences, output_dir=None):\n",
    "    \"\"\"Given a dataframe with sequences, use ABodyBuilder2 model to predict sequences\n",
    "    Args: \n",
    "        sequence(pd.DataFrame|str|Path): data frame with columns 'Name', 'VH', 'VL'\n",
    "        output_dir(path|Str): location to save models. \n",
    "    Returns: \n",
    "        None\n",
    "    \"\"\"\n",
    "\n",
    "    predictor = ABodyBuilder2()\n",
    "    if isinstance(sequences, str) or isinstance(sequences, Path):\n",
    "        sequences = pd.read_csv(sequences)\n",
    "    elif isinstance(sequences, pd.DataFrame): \n",
    "        pass\n",
    "    else:\n",
    "        print('Not antibodies')\n",
    "\n",
    "    sequences= sequences.dropna()\n",
    "    errors=[]\n",
    "\n",
    "    iterator = zip(sequences['Name'], sequences['VH'], sequences['VL'])\n",
    "    n = len(sequences)\n",
    "    for name, hc, lc in tqdm(iterator, total=n):\n",
    "        sequences = {'H': hc,'L': lc}\n",
    "        try:\n",
    "            antibody = predictor.predict(sequences)\n",
    "            \n",
    "            if output_dir: \n",
    "                output_file = output_dir/f'{name}.pdb'\n",
    "                antibody.save(str(output_file))\n",
    "        except AssertionError:\n",
    "            errors.append(name)\n",
    "  "
   ]
  },
  {
   "cell_type": "code",
   "execution_count": 10,
   "id": "2ce9e40b-98d4-42c6-8f26-06e58db5edf8",
   "metadata": {},
   "outputs": [],
   "source": [
    "abs = desktop/'therapeutic_antibodies.csv'\n",
    "abs = pd.read_csv(abs).tail(628-166-217)"
   ]
  },
  {
   "cell_type": "code",
   "execution_count": 11,
   "id": "238bc47b-a9b3-419e-8329-7a94121ef584",
   "metadata": {},
   "outputs": [
    {
     "data": {
      "application/vnd.jupyter.widget-view+json": {
       "model_id": "fcbbc4a4782c4d05ab498c40bac63f2e",
       "version_major": 2,
       "version_minor": 0
      },
      "text/plain": [
       "  0%|          | 0/456 [00:00<?, ?it/s]"
      ]
     },
     "metadata": {},
     "output_type": "display_data"
    },
    {
     "name": "stderr",
     "output_type": "stream",
     "text": [
      "Context leak detected, msgtracer returned -1\n",
      "Context leak detected, msgtracer returned -1\n",
      "Context leak detected, msgtracer returned -1\n",
      "Context leak detected, msgtracer returned -1\n",
      "Context leak detected, msgtracer returned -1\n",
      "Context leak detected, msgtracer returned -1\n",
      "Context leak detected, msgtracer returned -1\n",
      "Context leak detected, msgtracer returned -1\n",
      "Context leak detected, msgtracer returned -1\n",
      "Context leak detected, msgtracer returned -1\n",
      "Context leak detected, msgtracer returned -1\n",
      "Context leak detected, msgtracer returned -1\n",
      "Context leak detected, msgtracer returned -1\n",
      "Context leak detected, msgtracer returned -1\n",
      "Context leak detected, msgtracer returned -1\n",
      "Context leak detected, msgtracer returned -1\n",
      "Context leak detected, msgtracer returned -1\n",
      "Context leak detected, msgtracer returned -1\n",
      "Context leak detected, msgtracer returned -1\n",
      "Context leak detected, msgtracer returned -1\n",
      "Context leak detected, msgtracer returned -1\n",
      "Context leak detected, msgtracer returned -1\n",
      "Context leak detected, msgtracer returned -1\n",
      "Context leak detected, msgtracer returned -1\n",
      "Context leak detected, msgtracer returned -1\n",
      "Context leak detected, msgtracer returned -1\n",
      "Context leak detected, msgtracer returned -1\n",
      "Context leak detected, msgtracer returned -1\n",
      "Context leak detected, msgtracer returned -1\n",
      "Context leak detected, msgtracer returned -1\n",
      "Context leak detected, msgtracer returned -1\n",
      "Context leak detected, msgtracer returned -1\n",
      "Context leak detected, msgtracer returned -1\n",
      "Context leak detected, msgtracer returned -1\n",
      "Context leak detected, msgtracer returned -1\n",
      "Context leak detected, msgtracer returned -1\n",
      "Context leak detected, msgtracer returned -1\n",
      "Context leak detected, msgtracer returned -1\n",
      "Context leak detected, msgtracer returned -1\n",
      "Context leak detected, msgtracer returned -1\n",
      "Context leak detected, msgtracer returned -1\n",
      "Context leak detected, msgtracer returned -1\n",
      "Context leak detected, msgtracer returned -1\n",
      "Context leak detected, msgtracer returned -1\n",
      "Context leak detected, msgtracer returned -1\n",
      "Context leak detected, msgtracer returned -1\n",
      "Context leak detected, msgtracer returned -1\n",
      "Context leak detected, msgtracer returned -1\n",
      "Context leak detected, msgtracer returned -1\n",
      "Context leak detected, msgtracer returned -1\n",
      "Context leak detected, msgtracer returned -1\n"
     ]
    }
   ],
   "source": [
    "output_dir = desktop / 'ab_structures'\n",
    "if not output_dir.exists(): \n",
    "    output_dir.mkdir()\n",
    "predict_antibody_structures(abs, output_dir)"
   ]
  },
  {
   "cell_type": "markdown",
   "id": "c8a2b648-83b9-4646-a473-fe2b0bc42609",
   "metadata": {},
   "source": [
    "### Comment: \n",
    "As we can see it worked pretty well. "
   ]
  },
  {
   "cell_type": "code",
   "execution_count": null,
   "id": "7393054f-2208-499d-8ab0-691f3a607d1a",
   "metadata": {},
   "outputs": [],
   "source": []
  }
 ],
 "metadata": {
  "kernelspec": {
   "display_name": "Python 3 (ipykernel)",
   "language": "python",
   "name": "python3"
  },
  "language_info": {
   "codemirror_mode": {
    "name": "ipython",
    "version": 3
   },
   "file_extension": ".py",
   "mimetype": "text/x-python",
   "name": "python",
   "nbconvert_exporter": "python",
   "pygments_lexer": "ipython3",
   "version": "3.11.5"
  }
 },
 "nbformat": 4,
 "nbformat_minor": 5
}
