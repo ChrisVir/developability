{
 "cells": [
  {
   "cell_type": "markdown",
   "metadata": {},
   "source": [
    "### Objective: In this notebook, I am developing/testing code for using the RSA method of hydrophobicity. \n",
    "\n",
    "A simpler way that has been documented in the literature is to sum up the relative surface accesibility of Hydrophobicity by residue. "
   ]
  },
  {
   "cell_type": "markdown",
   "metadata": {},
   "source": [
    "### load modules "
   ]
  },
  {
   "cell_type": "code",
   "execution_count": 1,
   "metadata": {},
   "outputs": [],
   "source": [
    "%load_ext autoreload\n",
    "\n",
    "from pathlib import Path\n",
    "import pandas as pd\n",
    "import numpy as np\n",
    "from dask import delayed, compute\n",
    "from Bio.PDB import PDBParser\n",
    "from Bio.PDB.SASA import ShrakeRupley\n",
    "from tqdm.notebook import tqdm\n",
    "import seaborn as sns\n",
    "\n",
    "from developability.utils import ls, extract_sequence_from_pdb\n",
    "from developability.descriptors import map3to1\n",
    "from developability.hydrophobicity import read_hydrophobicity_scales, load_hydrophobicity_scale,region_hydrophobicities\n",
    "from developability.descriptors import annotate_residues_with_fv_regions"
   ]
  },
  {
   "cell_type": "code",
   "execution_count": 2,
   "metadata": {},
   "outputs": [],
   "source": [
    "sasas = {\n",
    "            'ALA'   :   121.0,\n",
    "            'ARG'   :   265.0,\n",
    "            'ASN'   :   187.0,\n",
    "            'NLN'   :   187.0,\n",
    "            'ASP'   :   187.0,\n",
    "            'CYS'   :   148.0,\n",
    "            'CYX'   :   148.0,\n",
    "            'GLU'   :   214.0,\n",
    "            'GLN'   :   214.0,\n",
    "            'GLY'   :   97.0,\n",
    "            'HIS'   :   216.0,\n",
    "            'HIE'   :   216.0,\n",
    "            'HID'   :   216.0,\n",
    "            'HIP'   :   216.0,\n",
    "            'ILE'   :   195.0,\n",
    "            'LEU'   :   191.0,\n",
    "            'LYS'   :   230.0,\n",
    "            'MET'   :   203.0,\n",
    "            'PHE'   :   228.0,\n",
    "            'PRO'   :   154.0,\n",
    "            'SER'   :   143.0,\n",
    "            'THR'   :   163.0,\n",
    "            'TRP'   :   264.0,\n",
    "            'TYR'   :   255.0,\n",
    "            'VAL'   :   165.0\n",
    "        }"
   ]
  },
  {
   "cell_type": "code",
   "execution_count": 3,
   "metadata": {},
   "outputs": [],
   "source": [
    "base_path = Path(\"/Users/ChristopherRivera/Documents/DataResults\")\n",
    "data_path = base_path /\"TherapeuticAntibodies/AbodyBuilder2_predicted_renumbered_stuctures\"\n",
    "\n",
    "pdb = data_path /'ramucirumab.pdb'"
   ]
  },
  {
   "cell_type": "code",
   "execution_count": 4,
   "metadata": {},
   "outputs": [
    {
     "data": {
      "text/plain": [
       "Index(['amino_acid_name', 'Residue', 'Kyte_Doolittle', 'Hopp_Woods',\n",
       "       'Cornette', 'Eisenberg', 'Rose', 'Janin', 'Engelman_GES', 'BaMe',\n",
       "       'BlMo', 'Ei', 'KyDo', 'Me', 'Ro', 'WiWh', 'Ja', 'Mi'],\n",
       "      dtype='object')"
      ]
     },
     "execution_count": 4,
     "metadata": {},
     "output_type": "execute_result"
    }
   ],
   "source": [
    "scales = read_hydrophobicity_scales()\n",
    "scales.columns"
   ]
  },
  {
   "cell_type": "code",
   "execution_count": 5,
   "metadata": {},
   "outputs": [],
   "source": [
    "def compute_rsa_hydrophobicity(pdb, scale): \n",
    "    \"\"\"Uses rsa method to compute hydrophobicity. Need to add reference for this method. \n",
    "\n",
    "    Args:\n",
    "        pdb (str|Path): path to the pdb file\n",
    "        scale (str): hydrophobicity scale to use\n",
    "\n",
    "    Returns:\n",
    "        pandas.DataFrame: dataframe with hydrophobicity values\n",
    "    \"\"\"\n",
    "\n",
    "    # load pdb structure\n",
    "    p = PDBParser()\n",
    "    struct = p.get_structure(\"ab\", pdb)\n",
    "    \n",
    "    # compute sasa using ShrakeRupley method\n",
    "    sr = ShrakeRupley()\n",
    "    sr.compute(struct, level=\"R\")\n",
    "\n",
    "    # load hydrophobicity scale and map to 3-letter amino acid code\n",
    "    scale = load_hydrophobicity_scale(scale)\n",
    "    residues = list(struct.get_residues())\n",
    "\n",
    "    df = [(residue.get_resname(), residue.sasa) for residue in residues]\n",
    "    df = pd.DataFrame(df, columns=[\"Residue_name\", \"sasa\"])\n",
    "    df.insert( 1,'aa', map3to1(df['Residue_name'].values))\n",
    "    df['max_sasa'] = df['Residue_name'].map(sasas)\n",
    "    \n",
    "    # compute hydrophobicity using rsa method\n",
    "    df['rsa']=df['sasa']/df['max_sasa']\n",
    "    df['hydrophobicity_raw'] = df['aa'].map(scale)\n",
    "    df['Hydrophobicity'] = df['hydrophobicity_raw']*df['rsa']\n",
    "\n",
    "    return df\n",
    "\n",
    "\n",
    "def compute_rsa_hydrophobicity_for_ab(pdb, scale, save_path=None, save=False, name=None): \n",
    "    \"\"\"Computes rsa hydrophobicity for an antibody pdb file.\"\"\"\n",
    "    \n",
    "    rsa_hydro_df = compute_rsa_hydrophobicity(pdb, scale)\n",
    "    sequences = extract_sequence_from_pdb(pdb)\n",
    "    rsa_hydro_df = annotate_residues_with_fv_regions(sequences, rsa_hydro_df, scheme = 'kabat')\n",
    "\n",
    "    if save:\n",
    "        if not save_path: \n",
    "            save_path = pdb.parent \n",
    "            \n",
    "        f = save_path/ f\"rsa_hydrophobicity_scale_{scale}.csv\"\n",
    "        rsa_hydro_df.to_csv(f, index=False)\n",
    "    \n",
    "    if not name: \n",
    "        name = pdb.stem\n",
    "    rsa_hydro_descriptors = pd.DataFrame(region_hydrophobicities(rsa_hydro_df), index=[name])\n",
    "    rsa_hydro_descriptors.index.name = 'antibody'\n",
    "    return rsa_hydro_descriptors\n",
    "\n",
    "\n",
    "\n",
    "def parallelize_rsa_hydrophobicity(paths, scale):\n",
    "    dfs = []\n",
    "    batches = np.array_split(paths,10)\n",
    "    for batch in tqdm(batches, total = len(batches)):\n",
    "        tasks  = [delayed(compute_rsa_hydrophobicity_for_ab)(path/'pdb4amber.pdb', scale, name = path.name.split('_')[0], save=True) for path in batch]\n",
    "        dfs.extend([task for task in compute(*tasks, scheduler='processes')])\n",
    "        \n",
    "    df = pd.concat(dfs)\n",
    "    df['scale'] = scale\n",
    "\n",
    "    output_path = paths[0].parent\n",
    "    df.to_csv(output_path/f'rsa_hydrophobicity_scale_{scale}.csv')\n",
    "    return df"
   ]
  },
  {
   "cell_type": "code",
   "execution_count": 6,
   "metadata": {},
   "outputs": [
    {
     "data": {
      "text/html": [
       "<div>\n",
       "<style scoped>\n",
       "    .dataframe tbody tr th:only-of-type {\n",
       "        vertical-align: middle;\n",
       "    }\n",
       "\n",
       "    .dataframe tbody tr th {\n",
       "        vertical-align: top;\n",
       "    }\n",
       "\n",
       "    .dataframe thead th {\n",
       "        text-align: right;\n",
       "    }\n",
       "</style>\n",
       "<table border=\"1\" class=\"dataframe\">\n",
       "  <thead>\n",
       "    <tr style=\"text-align: right;\">\n",
       "      <th></th>\n",
       "      <th>Residue_name</th>\n",
       "      <th>aa</th>\n",
       "      <th>sasa</th>\n",
       "      <th>max_sasa</th>\n",
       "      <th>rsa</th>\n",
       "      <th>hydrophobicity_raw</th>\n",
       "      <th>Hydrophobicity</th>\n",
       "    </tr>\n",
       "  </thead>\n",
       "  <tbody>\n",
       "    <tr>\n",
       "      <th>0</th>\n",
       "      <td>GLU</td>\n",
       "      <td>E</td>\n",
       "      <td>203.209045</td>\n",
       "      <td>214.0</td>\n",
       "      <td>0.949575</td>\n",
       "      <td>0.46</td>\n",
       "      <td>0.436804</td>\n",
       "    </tr>\n",
       "    <tr>\n",
       "      <th>1</th>\n",
       "      <td>VAL</td>\n",
       "      <td>V</td>\n",
       "      <td>62.219469</td>\n",
       "      <td>165.0</td>\n",
       "      <td>0.377088</td>\n",
       "      <td>0.97</td>\n",
       "      <td>0.365775</td>\n",
       "    </tr>\n",
       "    <tr>\n",
       "      <th>2</th>\n",
       "      <td>GLN</td>\n",
       "      <td>Q</td>\n",
       "      <td>85.591222</td>\n",
       "      <td>214.0</td>\n",
       "      <td>0.399959</td>\n",
       "      <td>-0.72</td>\n",
       "      <td>-0.287970</td>\n",
       "    </tr>\n",
       "    <tr>\n",
       "      <th>3</th>\n",
       "      <td>LEU</td>\n",
       "      <td>L</td>\n",
       "      <td>6.834296</td>\n",
       "      <td>191.0</td>\n",
       "      <td>0.035782</td>\n",
       "      <td>1.54</td>\n",
       "      <td>0.055104</td>\n",
       "    </tr>\n",
       "    <tr>\n",
       "      <th>4</th>\n",
       "      <td>VAL</td>\n",
       "      <td>V</td>\n",
       "      <td>82.038998</td>\n",
       "      <td>165.0</td>\n",
       "      <td>0.497206</td>\n",
       "      <td>0.97</td>\n",
       "      <td>0.482290</td>\n",
       "    </tr>\n",
       "  </tbody>\n",
       "</table>\n",
       "</div>"
      ],
      "text/plain": [
       "  Residue_name aa        sasa  max_sasa       rsa  hydrophobicity_raw  \\\n",
       "0          GLU  E  203.209045     214.0  0.949575                0.46   \n",
       "1          VAL  V   62.219469     165.0  0.377088                0.97   \n",
       "2          GLN  Q   85.591222     214.0  0.399959               -0.72   \n",
       "3          LEU  L    6.834296     191.0  0.035782                1.54   \n",
       "4          VAL  V   82.038998     165.0  0.497206                0.97   \n",
       "\n",
       "   Hydrophobicity  \n",
       "0        0.436804  \n",
       "1        0.365775  \n",
       "2       -0.287970  \n",
       "3        0.055104  \n",
       "4        0.482290  "
      ]
     },
     "execution_count": 6,
     "metadata": {},
     "output_type": "execute_result"
    }
   ],
   "source": [
    "res = compute_rsa_hydrophobicity(pdb, \"Ja\")\n",
    "res.head()"
   ]
  },
  {
   "cell_type": "code",
   "execution_count": 7,
   "metadata": {},
   "outputs": [
    {
     "data": {
      "text/html": [
       "<div>\n",
       "<style scoped>\n",
       "    .dataframe tbody tr th:only-of-type {\n",
       "        vertical-align: middle;\n",
       "    }\n",
       "\n",
       "    .dataframe tbody tr th {\n",
       "        vertical-align: top;\n",
       "    }\n",
       "\n",
       "    .dataframe thead th {\n",
       "        text-align: right;\n",
       "    }\n",
       "</style>\n",
       "<table border=\"1\" class=\"dataframe\">\n",
       "  <thead>\n",
       "    <tr style=\"text-align: right;\">\n",
       "      <th></th>\n",
       "      <th>HCDR1_HYDRO_pos</th>\n",
       "      <th>HCDR1_HYDRO_neg</th>\n",
       "      <th>HCDR1_HYDRO_net</th>\n",
       "      <th>HCDR2_HYDRO_pos</th>\n",
       "      <th>HCDR2_HYDRO_neg</th>\n",
       "      <th>HCDR2_HYDRO_net</th>\n",
       "      <th>HCDR3_HYDRO_pos</th>\n",
       "      <th>HCDR3_HYDRO_neg</th>\n",
       "      <th>HCDR3_HYDRO_net</th>\n",
       "      <th>HFR1_HYDRO_pos</th>\n",
       "      <th>...</th>\n",
       "      <th>LC_HYDRO_net</th>\n",
       "      <th>TOTAL_CDR_HYDRO_pos</th>\n",
       "      <th>TOTAL_CDR_HYDRO_neg</th>\n",
       "      <th>TOTAL_CDR_HYDRO_net</th>\n",
       "      <th>TOTAL_FR_HYDRO_pos</th>\n",
       "      <th>TOTAL_FR_HYDRO_neg</th>\n",
       "      <th>TOTAL_FR_HYDRO_net</th>\n",
       "      <th>TOTAL_HYDRO_pos</th>\n",
       "      <th>TOTAL_HYDRO_neg</th>\n",
       "      <th>TOTAL_HYDRO_net</th>\n",
       "    </tr>\n",
       "    <tr>\n",
       "      <th>antibody</th>\n",
       "      <th></th>\n",
       "      <th></th>\n",
       "      <th></th>\n",
       "      <th></th>\n",
       "      <th></th>\n",
       "      <th></th>\n",
       "      <th></th>\n",
       "      <th></th>\n",
       "      <th></th>\n",
       "      <th></th>\n",
       "      <th></th>\n",
       "      <th></th>\n",
       "      <th></th>\n",
       "      <th></th>\n",
       "      <th></th>\n",
       "      <th></th>\n",
       "      <th></th>\n",
       "      <th></th>\n",
       "      <th></th>\n",
       "      <th></th>\n",
       "      <th></th>\n",
       "    </tr>\n",
       "  </thead>\n",
       "  <tbody>\n",
       "    <tr>\n",
       "      <th>ramucirumab</th>\n",
       "      <td>0.579719</td>\n",
       "      <td>0.0</td>\n",
       "      <td>0.579719</td>\n",
       "      <td>3.01792</td>\n",
       "      <td>-0.758435</td>\n",
       "      <td>2.259485</td>\n",
       "      <td>0.62511</td>\n",
       "      <td>-0.232543</td>\n",
       "      <td>0.392567</td>\n",
       "      <td>3.587726</td>\n",
       "      <td>...</td>\n",
       "      <td>4.259563</td>\n",
       "      <td>7.415891</td>\n",
       "      <td>-2.059974</td>\n",
       "      <td>5.355917</td>\n",
       "      <td>12.157793</td>\n",
       "      <td>-7.61266</td>\n",
       "      <td>4.545132</td>\n",
       "      <td>19.573684</td>\n",
       "      <td>-9.672635</td>\n",
       "      <td>9.90105</td>\n",
       "    </tr>\n",
       "  </tbody>\n",
       "</table>\n",
       "<p>1 rows × 69 columns</p>\n",
       "</div>"
      ],
      "text/plain": [
       "             HCDR1_HYDRO_pos  HCDR1_HYDRO_neg  HCDR1_HYDRO_net  \\\n",
       "antibody                                                         \n",
       "ramucirumab         0.579719              0.0         0.579719   \n",
       "\n",
       "             HCDR2_HYDRO_pos  HCDR2_HYDRO_neg  HCDR2_HYDRO_net  \\\n",
       "antibody                                                         \n",
       "ramucirumab          3.01792        -0.758435         2.259485   \n",
       "\n",
       "             HCDR3_HYDRO_pos  HCDR3_HYDRO_neg  HCDR3_HYDRO_net  \\\n",
       "antibody                                                         \n",
       "ramucirumab          0.62511        -0.232543         0.392567   \n",
       "\n",
       "             HFR1_HYDRO_pos  ...  LC_HYDRO_net  TOTAL_CDR_HYDRO_pos  \\\n",
       "antibody                     ...                                      \n",
       "ramucirumab        3.587726  ...      4.259563             7.415891   \n",
       "\n",
       "             TOTAL_CDR_HYDRO_neg  TOTAL_CDR_HYDRO_net  TOTAL_FR_HYDRO_pos  \\\n",
       "antibody                                                                    \n",
       "ramucirumab            -2.059974             5.355917           12.157793   \n",
       "\n",
       "             TOTAL_FR_HYDRO_neg  TOTAL_FR_HYDRO_net  TOTAL_HYDRO_pos  \\\n",
       "antibody                                                               \n",
       "ramucirumab            -7.61266            4.545132        19.573684   \n",
       "\n",
       "             TOTAL_HYDRO_neg  TOTAL_HYDRO_net  \n",
       "antibody                                       \n",
       "ramucirumab        -9.672635          9.90105  \n",
       "\n",
       "[1 rows x 69 columns]"
      ]
     },
     "execution_count": 7,
     "metadata": {},
     "output_type": "execute_result"
    }
   ],
   "source": [
    "rsa = compute_rsa_hydrophobicity_for_ab(pdb, \"Ja\",save=True)\n",
    "rsa"
   ]
  },
  {
   "cell_type": "code",
   "execution_count": 8,
   "metadata": {},
   "outputs": [],
   "source": [
    "paths = [d for d in ls(data_path) if d.is_dir() and d.name.endswith('outputs')]\n"
   ]
  },
  {
   "cell_type": "code",
   "execution_count": 9,
   "metadata": {},
   "outputs": [
    {
     "data": {
      "application/vnd.jupyter.widget-view+json": {
       "model_id": "000462670cb24b378b4926a73a9e2a0e",
       "version_major": 2,
       "version_minor": 0
      },
      "text/plain": [
       "  0%|          | 0/12 [00:00<?, ?it/s]"
      ]
     },
     "metadata": {},
     "output_type": "display_data"
    },
    {
     "name": "stdout",
     "output_type": "stream",
     "text": [
      "Kyte_Doolittle\n"
     ]
    },
    {
     "data": {
      "application/vnd.jupyter.widget-view+json": {
       "model_id": "6c4cb711f1fe495b941b838eb56fd402",
       "version_major": 2,
       "version_minor": 0
      },
      "text/plain": [
       "  0%|          | 0/10 [00:00<?, ?it/s]"
      ]
     },
     "metadata": {},
     "output_type": "display_data"
    },
    {
     "name": "stdout",
     "output_type": "stream",
     "text": [
      "Eisenberg\n"
     ]
    },
    {
     "data": {
      "application/vnd.jupyter.widget-view+json": {
       "model_id": "9a3a6728f8104f8c8a78d64a366dd9b8",
       "version_major": 2,
       "version_minor": 0
      },
      "text/plain": [
       "  0%|          | 0/10 [00:00<?, ?it/s]"
      ]
     },
     "metadata": {},
     "output_type": "display_data"
    },
    {
     "name": "stdout",
     "output_type": "stream",
     "text": [
      "Rose\n"
     ]
    },
    {
     "data": {
      "application/vnd.jupyter.widget-view+json": {
       "model_id": "f77ae8f9eee4476e9ab144ea02910338",
       "version_major": 2,
       "version_minor": 0
      },
      "text/plain": [
       "  0%|          | 0/10 [00:00<?, ?it/s]"
      ]
     },
     "metadata": {},
     "output_type": "display_data"
    },
    {
     "name": "stdout",
     "output_type": "stream",
     "text": [
      "BaMe\n"
     ]
    },
    {
     "data": {
      "application/vnd.jupyter.widget-view+json": {
       "model_id": "5134508b394845ceb4e758760c30d887",
       "version_major": 2,
       "version_minor": 0
      },
      "text/plain": [
       "  0%|          | 0/10 [00:00<?, ?it/s]"
      ]
     },
     "metadata": {},
     "output_type": "display_data"
    },
    {
     "name": "stdout",
     "output_type": "stream",
     "text": [
      "BlMo\n"
     ]
    },
    {
     "data": {
      "application/vnd.jupyter.widget-view+json": {
       "model_id": "f1d55af35465493fbc59b21eeb98215f",
       "version_major": 2,
       "version_minor": 0
      },
      "text/plain": [
       "  0%|          | 0/10 [00:00<?, ?it/s]"
      ]
     },
     "metadata": {},
     "output_type": "display_data"
    },
    {
     "name": "stdout",
     "output_type": "stream",
     "text": [
      "Ei\n"
     ]
    },
    {
     "data": {
      "application/vnd.jupyter.widget-view+json": {
       "model_id": "8bd64555ef544533ba10d14c32cb57d8",
       "version_major": 2,
       "version_minor": 0
      },
      "text/plain": [
       "  0%|          | 0/10 [00:00<?, ?it/s]"
      ]
     },
     "metadata": {},
     "output_type": "display_data"
    },
    {
     "name": "stdout",
     "output_type": "stream",
     "text": [
      "KyDo\n"
     ]
    },
    {
     "data": {
      "application/vnd.jupyter.widget-view+json": {
       "model_id": "59a6d6efb98548b1a68a33b444a15d97",
       "version_major": 2,
       "version_minor": 0
      },
      "text/plain": [
       "  0%|          | 0/10 [00:00<?, ?it/s]"
      ]
     },
     "metadata": {},
     "output_type": "display_data"
    },
    {
     "name": "stdout",
     "output_type": "stream",
     "text": [
      "Me\n"
     ]
    },
    {
     "data": {
      "application/vnd.jupyter.widget-view+json": {
       "model_id": "c139283e63df4630950e41ce804fe10a",
       "version_major": 2,
       "version_minor": 0
      },
      "text/plain": [
       "  0%|          | 0/10 [00:00<?, ?it/s]"
      ]
     },
     "metadata": {},
     "output_type": "display_data"
    },
    {
     "name": "stdout",
     "output_type": "stream",
     "text": [
      "Ro\n"
     ]
    },
    {
     "data": {
      "application/vnd.jupyter.widget-view+json": {
       "model_id": "e3f2801d1c92453c8c94973afcf08786",
       "version_major": 2,
       "version_minor": 0
      },
      "text/plain": [
       "  0%|          | 0/10 [00:00<?, ?it/s]"
      ]
     },
     "metadata": {},
     "output_type": "display_data"
    },
    {
     "name": "stdout",
     "output_type": "stream",
     "text": [
      "WiWh\n"
     ]
    },
    {
     "data": {
      "application/vnd.jupyter.widget-view+json": {
       "model_id": "443ea5f1312e4e46ae4f995fe69f8e01",
       "version_major": 2,
       "version_minor": 0
      },
      "text/plain": [
       "  0%|          | 0/10 [00:00<?, ?it/s]"
      ]
     },
     "metadata": {},
     "output_type": "display_data"
    },
    {
     "name": "stdout",
     "output_type": "stream",
     "text": [
      "Ja\n"
     ]
    },
    {
     "data": {
      "application/vnd.jupyter.widget-view+json": {
       "model_id": "cd8125f6034e406abe94402653020081",
       "version_major": 2,
       "version_minor": 0
      },
      "text/plain": [
       "  0%|          | 0/10 [00:00<?, ?it/s]"
      ]
     },
     "metadata": {},
     "output_type": "display_data"
    },
    {
     "name": "stdout",
     "output_type": "stream",
     "text": [
      "Mi\n"
     ]
    },
    {
     "data": {
      "application/vnd.jupyter.widget-view+json": {
       "model_id": "1c56641bc323485ab7dd720536603fb4",
       "version_major": 2,
       "version_minor": 0
      },
      "text/plain": [
       "  0%|          | 0/10 [00:00<?, ?it/s]"
      ]
     },
     "metadata": {},
     "output_type": "display_data"
    }
   ],
   "source": [
    "scales_ = ['Kyte_Doolittle', 'Eisenberg', 'Rose', 'BaMe','BlMo', 'Ei', 'KyDo', 'Me', 'Ro', 'WiWh', 'Ja', 'Mi']\n",
    "\n",
    "for scale in tqdm(scales_, total = len(scales_)):\n",
    "    print(scale)\n",
    "    parallelize_rsa_hydrophobicity(paths, scale)"
   ]
  },
  {
   "cell_type": "code",
   "execution_count": 10,
   "metadata": {},
   "outputs": [
    {
     "data": {
      "text/plain": [
       "[PosixPath('/Users/ChristopherRivera/Documents/DataResults/TherapeuticAntibodies/AbodyBuilder2_predicted_renumbered_stuctures/rsa_hydrophobicity_scale_WiWh.csv'),\n",
       " PosixPath('/Users/ChristopherRivera/Documents/DataResults/TherapeuticAntibodies/AbodyBuilder2_predicted_renumbered_stuctures/rsa_hydrophobicity_scale_BlMo.csv'),\n",
       " PosixPath('/Users/ChristopherRivera/Documents/DataResults/TherapeuticAntibodies/AbodyBuilder2_predicted_renumbered_stuctures/rsa_hydrophobicity_scale_Mi.csv'),\n",
       " PosixPath('/Users/ChristopherRivera/Documents/DataResults/TherapeuticAntibodies/AbodyBuilder2_predicted_renumbered_stuctures/rsa_hydrophobicity_scale_Ro.csv'),\n",
       " PosixPath('/Users/ChristopherRivera/Documents/DataResults/TherapeuticAntibodies/AbodyBuilder2_predicted_renumbered_stuctures/rsa_hydrophobicity_scale_BaMe.csv'),\n",
       " PosixPath('/Users/ChristopherRivera/Documents/DataResults/TherapeuticAntibodies/AbodyBuilder2_predicted_renumbered_stuctures/rsa_hydrophobicity_scale_KyDo.csv'),\n",
       " PosixPath('/Users/ChristopherRivera/Documents/DataResults/TherapeuticAntibodies/AbodyBuilder2_predicted_renumbered_stuctures/rsa_hydrophobicity_scale_Ja.csv'),\n",
       " PosixPath('/Users/ChristopherRivera/Documents/DataResults/TherapeuticAntibodies/AbodyBuilder2_predicted_renumbered_stuctures/rsa_hydrophobicity_scale_Kyte_Doolittle.csv'),\n",
       " PosixPath('/Users/ChristopherRivera/Documents/DataResults/TherapeuticAntibodies/AbodyBuilder2_predicted_renumbered_stuctures/rsa_hydrophobicity_scale_Eisenberg.csv'),\n",
       " PosixPath('/Users/ChristopherRivera/Documents/DataResults/TherapeuticAntibodies/AbodyBuilder2_predicted_renumbered_stuctures/rsa_hydrophobicity_scale_Ei.csv'),\n",
       " PosixPath('/Users/ChristopherRivera/Documents/DataResults/TherapeuticAntibodies/AbodyBuilder2_predicted_renumbered_stuctures/rsa_hydrophobicity_scale_Rose.csv'),\n",
       " PosixPath('/Users/ChristopherRivera/Documents/DataResults/TherapeuticAntibodies/AbodyBuilder2_predicted_renumbered_stuctures/rsa_hydrophobicity_descriptors_12-05-2023.csv'),\n",
       " PosixPath('/Users/ChristopherRivera/Documents/DataResults/TherapeuticAntibodies/AbodyBuilder2_predicted_renumbered_stuctures/rsa_hydrophobicity_scale_Me.csv')]"
      ]
     },
     "execution_count": 10,
     "metadata": {},
     "output_type": "execute_result"
    }
   ],
   "source": [
    "files = [f for f in ls(data_path) if 'rsa' in f.name and f.name.endswith('.csv')]\n",
    "files"
   ]
  },
  {
   "cell_type": "code",
   "execution_count": 11,
   "metadata": {},
   "outputs": [
    {
     "data": {
      "text/html": [
       "<div>\n",
       "<style scoped>\n",
       "    .dataframe tbody tr th:only-of-type {\n",
       "        vertical-align: middle;\n",
       "    }\n",
       "\n",
       "    .dataframe tbody tr th {\n",
       "        vertical-align: top;\n",
       "    }\n",
       "\n",
       "    .dataframe thead th {\n",
       "        text-align: right;\n",
       "    }\n",
       "</style>\n",
       "<table border=\"1\" class=\"dataframe\">\n",
       "  <thead>\n",
       "    <tr style=\"text-align: right;\">\n",
       "      <th></th>\n",
       "      <th>HCDR1_HYDRO_pos</th>\n",
       "      <th>HCDR1_HYDRO_neg</th>\n",
       "      <th>HCDR1_HYDRO_net</th>\n",
       "      <th>HCDR2_HYDRO_pos</th>\n",
       "      <th>HCDR2_HYDRO_neg</th>\n",
       "      <th>HCDR2_HYDRO_net</th>\n",
       "      <th>HCDR3_HYDRO_pos</th>\n",
       "      <th>HCDR3_HYDRO_neg</th>\n",
       "      <th>HCDR3_HYDRO_net</th>\n",
       "      <th>HFR1_HYDRO_pos</th>\n",
       "      <th>...</th>\n",
       "      <th>TOTAL_CDR_HYDRO_pos</th>\n",
       "      <th>TOTAL_CDR_HYDRO_neg</th>\n",
       "      <th>TOTAL_CDR_HYDRO_net</th>\n",
       "      <th>TOTAL_FR_HYDRO_pos</th>\n",
       "      <th>TOTAL_FR_HYDRO_neg</th>\n",
       "      <th>TOTAL_FR_HYDRO_net</th>\n",
       "      <th>TOTAL_HYDRO_pos</th>\n",
       "      <th>TOTAL_HYDRO_neg</th>\n",
       "      <th>TOTAL_HYDRO_net</th>\n",
       "      <th>scale</th>\n",
       "    </tr>\n",
       "    <tr>\n",
       "      <th>antibody</th>\n",
       "      <th></th>\n",
       "      <th></th>\n",
       "      <th></th>\n",
       "      <th></th>\n",
       "      <th></th>\n",
       "      <th></th>\n",
       "      <th></th>\n",
       "      <th></th>\n",
       "      <th></th>\n",
       "      <th></th>\n",
       "      <th></th>\n",
       "      <th></th>\n",
       "      <th></th>\n",
       "      <th></th>\n",
       "      <th></th>\n",
       "      <th></th>\n",
       "      <th></th>\n",
       "      <th></th>\n",
       "      <th></th>\n",
       "      <th></th>\n",
       "      <th></th>\n",
       "    </tr>\n",
       "  </thead>\n",
       "  <tbody>\n",
       "    <tr>\n",
       "      <th>abituzumab</th>\n",
       "      <td>1.158171</td>\n",
       "      <td>-0.047080</td>\n",
       "      <td>1.111091</td>\n",
       "      <td>1.039075</td>\n",
       "      <td>-2.250825</td>\n",
       "      <td>-1.211749</td>\n",
       "      <td>0.707422</td>\n",
       "      <td>-0.344297</td>\n",
       "      <td>0.363125</td>\n",
       "      <td>0.812412</td>\n",
       "      <td>...</td>\n",
       "      <td>4.561561</td>\n",
       "      <td>-5.409205</td>\n",
       "      <td>-0.847643</td>\n",
       "      <td>2.293206</td>\n",
       "      <td>-21.667242</td>\n",
       "      <td>-19.374036</td>\n",
       "      <td>6.854767</td>\n",
       "      <td>-27.076447</td>\n",
       "      <td>-20.221680</td>\n",
       "      <td>WiWh</td>\n",
       "    </tr>\n",
       "    <tr>\n",
       "      <th>abituzumab</th>\n",
       "      <td>0.975470</td>\n",
       "      <td>-0.506023</td>\n",
       "      <td>0.469447</td>\n",
       "      <td>2.750974</td>\n",
       "      <td>-11.665356</td>\n",
       "      <td>-8.914382</td>\n",
       "      <td>1.259148</td>\n",
       "      <td>-2.913764</td>\n",
       "      <td>-1.654616</td>\n",
       "      <td>5.481614</td>\n",
       "      <td>...</td>\n",
       "      <td>7.680679</td>\n",
       "      <td>-26.936257</td>\n",
       "      <td>-19.255577</td>\n",
       "      <td>15.656790</td>\n",
       "      <td>-67.957901</td>\n",
       "      <td>-52.301110</td>\n",
       "      <td>23.337469</td>\n",
       "      <td>-94.894157</td>\n",
       "      <td>-71.556688</td>\n",
       "      <td>Kyte_Doolittle</td>\n",
       "    </tr>\n",
       "    <tr>\n",
       "      <th>abituzumab</th>\n",
       "      <td>0.383220</td>\n",
       "      <td>-0.092095</td>\n",
       "      <td>0.291126</td>\n",
       "      <td>1.027320</td>\n",
       "      <td>-3.375997</td>\n",
       "      <td>-2.348677</td>\n",
       "      <td>0.480563</td>\n",
       "      <td>-0.755429</td>\n",
       "      <td>-0.274866</td>\n",
       "      <td>2.109592</td>\n",
       "      <td>...</td>\n",
       "      <td>2.926067</td>\n",
       "      <td>-7.509856</td>\n",
       "      <td>-4.583789</td>\n",
       "      <td>5.989721</td>\n",
       "      <td>-17.990701</td>\n",
       "      <td>-12.000980</td>\n",
       "      <td>8.915788</td>\n",
       "      <td>-25.500557</td>\n",
       "      <td>-16.584769</td>\n",
       "      <td>KyDo</td>\n",
       "    </tr>\n",
       "    <tr>\n",
       "      <th>abituzumab</th>\n",
       "      <td>0.644011</td>\n",
       "      <td>-0.056496</td>\n",
       "      <td>0.587515</td>\n",
       "      <td>1.269665</td>\n",
       "      <td>-3.877525</td>\n",
       "      <td>-2.607861</td>\n",
       "      <td>0.926520</td>\n",
       "      <td>-1.035592</td>\n",
       "      <td>-0.109072</td>\n",
       "      <td>2.853075</td>\n",
       "      <td>...</td>\n",
       "      <td>4.106959</td>\n",
       "      <td>-8.351595</td>\n",
       "      <td>-4.244635</td>\n",
       "      <td>8.290182</td>\n",
       "      <td>-17.420809</td>\n",
       "      <td>-9.130627</td>\n",
       "      <td>12.397142</td>\n",
       "      <td>-25.772404</td>\n",
       "      <td>-13.375262</td>\n",
       "      <td>Eisenberg</td>\n",
       "    </tr>\n",
       "    <tr>\n",
       "      <th>abituzumab</th>\n",
       "      <td>0.350626</td>\n",
       "      <td>-0.213430</td>\n",
       "      <td>0.137196</td>\n",
       "      <td>0.563256</td>\n",
       "      <td>-5.881043</td>\n",
       "      <td>-5.317787</td>\n",
       "      <td>0.216953</td>\n",
       "      <td>-1.385298</td>\n",
       "      <td>-1.168345</td>\n",
       "      <td>0.794740</td>\n",
       "      <td>...</td>\n",
       "      <td>1.723525</td>\n",
       "      <td>-13.407667</td>\n",
       "      <td>-11.684142</td>\n",
       "      <td>2.470376</td>\n",
       "      <td>-32.926676</td>\n",
       "      <td>-30.456300</td>\n",
       "      <td>4.193901</td>\n",
       "      <td>-46.334343</td>\n",
       "      <td>-42.140443</td>\n",
       "      <td>Ei</td>\n",
       "    </tr>\n",
       "  </tbody>\n",
       "</table>\n",
       "<p>5 rows × 70 columns</p>\n",
       "</div>"
      ],
      "text/plain": [
       "            HCDR1_HYDRO_pos  HCDR1_HYDRO_neg  HCDR1_HYDRO_net  \\\n",
       "antibody                                                        \n",
       "abituzumab         1.158171        -0.047080         1.111091   \n",
       "abituzumab         0.975470        -0.506023         0.469447   \n",
       "abituzumab         0.383220        -0.092095         0.291126   \n",
       "abituzumab         0.644011        -0.056496         0.587515   \n",
       "abituzumab         0.350626        -0.213430         0.137196   \n",
       "\n",
       "            HCDR2_HYDRO_pos  HCDR2_HYDRO_neg  HCDR2_HYDRO_net  \\\n",
       "antibody                                                        \n",
       "abituzumab         1.039075        -2.250825        -1.211749   \n",
       "abituzumab         2.750974       -11.665356        -8.914382   \n",
       "abituzumab         1.027320        -3.375997        -2.348677   \n",
       "abituzumab         1.269665        -3.877525        -2.607861   \n",
       "abituzumab         0.563256        -5.881043        -5.317787   \n",
       "\n",
       "            HCDR3_HYDRO_pos  HCDR3_HYDRO_neg  HCDR3_HYDRO_net  HFR1_HYDRO_pos  \\\n",
       "antibody                                                                        \n",
       "abituzumab         0.707422        -0.344297         0.363125        0.812412   \n",
       "abituzumab         1.259148        -2.913764        -1.654616        5.481614   \n",
       "abituzumab         0.480563        -0.755429        -0.274866        2.109592   \n",
       "abituzumab         0.926520        -1.035592        -0.109072        2.853075   \n",
       "abituzumab         0.216953        -1.385298        -1.168345        0.794740   \n",
       "\n",
       "            ...  TOTAL_CDR_HYDRO_pos  TOTAL_CDR_HYDRO_neg  \\\n",
       "antibody    ...                                             \n",
       "abituzumab  ...             4.561561            -5.409205   \n",
       "abituzumab  ...             7.680679           -26.936257   \n",
       "abituzumab  ...             2.926067            -7.509856   \n",
       "abituzumab  ...             4.106959            -8.351595   \n",
       "abituzumab  ...             1.723525           -13.407667   \n",
       "\n",
       "            TOTAL_CDR_HYDRO_net  TOTAL_FR_HYDRO_pos  TOTAL_FR_HYDRO_neg  \\\n",
       "antibody                                                                  \n",
       "abituzumab            -0.847643            2.293206          -21.667242   \n",
       "abituzumab           -19.255577           15.656790          -67.957901   \n",
       "abituzumab            -4.583789            5.989721          -17.990701   \n",
       "abituzumab            -4.244635            8.290182          -17.420809   \n",
       "abituzumab           -11.684142            2.470376          -32.926676   \n",
       "\n",
       "            TOTAL_FR_HYDRO_net  TOTAL_HYDRO_pos  TOTAL_HYDRO_neg  \\\n",
       "antibody                                                           \n",
       "abituzumab          -19.374036         6.854767       -27.076447   \n",
       "abituzumab          -52.301110        23.337469       -94.894157   \n",
       "abituzumab          -12.000980         8.915788       -25.500557   \n",
       "abituzumab           -9.130627        12.397142       -25.772404   \n",
       "abituzumab          -30.456300         4.193901       -46.334343   \n",
       "\n",
       "            TOTAL_HYDRO_net           scale  \n",
       "antibody                                     \n",
       "abituzumab       -20.221680            WiWh  \n",
       "abituzumab       -71.556688  Kyte_Doolittle  \n",
       "abituzumab       -16.584769            KyDo  \n",
       "abituzumab       -13.375262       Eisenberg  \n",
       "abituzumab       -42.140443              Ei  \n",
       "\n",
       "[5 rows x 70 columns]"
      ]
     },
     "execution_count": 11,
     "metadata": {},
     "output_type": "execute_result"
    }
   ],
   "source": [
    "df = pd.concat([pd.read_csv(f) for f in files])\n",
    "df = df.set_index('antibody').sort_index()\n",
    "df.head()"
   ]
  },
  {
   "cell_type": "code",
   "execution_count": 12,
   "metadata": {},
   "outputs": [
    {
     "data": {
      "image/png": "[encoded data removed]",
      "text/plain": [
       "<Figure size 640x480 with 1 Axes>"
      ]
     },
     "metadata": {},
     "output_type": "display_data"
    }
   ],
   "source": [
    "\n",
    "df.loc['clazakizumab'].set_index('scale')['HCDR1_HYDRO_pos'].sort_values().plot.barh(title= 'Clazakizumab HCDR1 Hydrophobicity')\n",
    "sns.despine()"
   ]
  },
  {
   "cell_type": "markdown",
   "metadata": {},
   "source": [
    "### save to csv"
   ]
  },
  {
   "cell_type": "code",
   "execution_count": 13,
   "metadata": {},
   "outputs": [],
   "source": [
    "fname = data_path.parent/'rsa_hydrophobicity_descriptors_12-05-2023.csv'\n",
    "df.to_csv(fname)"
   ]
  },
  {
   "cell_type": "markdown",
   "metadata": {},
   "source": [
    "## Now compute SASA hydrophobicity \n",
    "Note analysis performed on 12-11-2023. "
   ]
  },
  {
   "cell_type": "code",
   "execution_count": 14,
   "metadata": {},
   "outputs": [],
   "source": [
    "def compute_sasa_hydrophobicity_for_ab(pdb, scale, save=False, name=None): \n",
    "    \"\"\"Computes sasa hydrophobicity for an antibody pdb file.\"\"\"\n",
    "    \n",
    "    save_path = pdb.parent\n",
    "\n",
    "    rsa_f = save_path/ f\"rsa_hydrophobicity_scale_{scale}.csv\"\n",
    "    if not rsa_f.exists(): \n",
    "        hydro_df = compute_rsa_hydrophobicity(pdb, scale)\n",
    "        sequences = extract_sequence_from_pdb(pdb)\n",
    "        hydro_df = annotate_residues_with_fv_regions(sequences, hydro_df, scheme = 'kabat')\n",
    "    else: \n",
    "        hydro_df = pd.read_csv(rsa_f)\n",
    "\n",
    "    if save and not rsa_f.exists():\n",
    "\n",
    "            \n",
    "        f = save_path/ f\"rsa_hydrophobicity_scale_{scale}.csv\"\n",
    "        hydro_df.to_csv(f, index=False)\n",
    "    \n",
    "    if not name: \n",
    "        name = pdb.stem\n",
    "    sasa_hydro_descriptors = pd.DataFrame(region_hydrophobicities(hydro_df, hydrophobicity_col= 'hydrophobicity_raw'), index=[name])\n",
    "    sasa_hydro_descriptors.index.name = 'antibody'\n",
    "    return sasa_hydro_descriptors\n",
    "\n",
    "\n",
    "def parallelize_sasa_hydrophobicity(paths, scale):\n",
    "    dfs = []\n",
    "    batches = np.array_split(paths,10)\n",
    "    for batch in tqdm(batches, total = len(batches)):\n",
    "        tasks  = [delayed(compute_sasa_hydrophobicity_for_ab)(path/'pdb4amber.pdb', scale, name = path.name.split('_')[0], save=True) for path in batch]\n",
    "        dfs.extend([task for task in compute(*tasks, scheduler='processes')])\n",
    "        \n",
    "    df = pd.concat(dfs)\n",
    "    df['scale'] = scale\n",
    "\n",
    "    output_path = paths[0].parent\n",
    "    df.to_csv(output_path/f'sasa_hydrophobicity_scale_{scale}.csv')\n",
    "    return df"
   ]
  },
  {
   "cell_type": "code",
   "execution_count": 15,
   "metadata": {},
   "outputs": [
    {
     "data": {
      "application/vnd.jupyter.widget-view+json": {
       "model_id": "0ec9402c926044f1a9c4e75b1e7cfd45",
       "version_major": 2,
       "version_minor": 0
      },
      "text/plain": [
       "  0%|          | 0/12 [00:00<?, ?it/s]"
      ]
     },
     "metadata": {},
     "output_type": "display_data"
    },
    {
     "name": "stdout",
     "output_type": "stream",
     "text": [
      "Kyte_Doolittle\n"
     ]
    },
    {
     "data": {
      "application/vnd.jupyter.widget-view+json": {
       "model_id": "6283ad077ba743bf9f94cd90b8e6720d",
       "version_major": 2,
       "version_minor": 0
      },
      "text/plain": [
       "  0%|          | 0/10 [00:00<?, ?it/s]"
      ]
     },
     "metadata": {},
     "output_type": "display_data"
    },
    {
     "name": "stdout",
     "output_type": "stream",
     "text": [
      "Eisenberg\n"
     ]
    },
    {
     "data": {
      "application/vnd.jupyter.widget-view+json": {
       "model_id": "b4211107e1e349be8b7a0590aea2762f",
       "version_major": 2,
       "version_minor": 0
      },
      "text/plain": [
       "  0%|          | 0/10 [00:00<?, ?it/s]"
      ]
     },
     "metadata": {},
     "output_type": "display_data"
    },
    {
     "name": "stdout",
     "output_type": "stream",
     "text": [
      "Rose\n"
     ]
    },
    {
     "data": {
      "application/vnd.jupyter.widget-view+json": {
       "model_id": "5948c676662245bf99231a601c3fe988",
       "version_major": 2,
       "version_minor": 0
      },
      "text/plain": [
       "  0%|          | 0/10 [00:00<?, ?it/s]"
      ]
     },
     "metadata": {},
     "output_type": "display_data"
    },
    {
     "name": "stdout",
     "output_type": "stream",
     "text": [
      "BaMe\n"
     ]
    },
    {
     "data": {
      "application/vnd.jupyter.widget-view+json": {
       "model_id": "c284f0a5639e4417882e77f8334f4229",
       "version_major": 2,
       "version_minor": 0
      },
      "text/plain": [
       "  0%|          | 0/10 [00:00<?, ?it/s]"
      ]
     },
     "metadata": {},
     "output_type": "display_data"
    },
    {
     "name": "stdout",
     "output_type": "stream",
     "text": [
      "BlMo\n"
     ]
    },
    {
     "data": {
      "application/vnd.jupyter.widget-view+json": {
       "model_id": "f15d107414b64d4f985af0498be261b8",
       "version_major": 2,
       "version_minor": 0
      },
      "text/plain": [
       "  0%|          | 0/10 [00:00<?, ?it/s]"
      ]
     },
     "metadata": {},
     "output_type": "display_data"
    },
    {
     "name": "stdout",
     "output_type": "stream",
     "text": [
      "Ei\n"
     ]
    },
    {
     "data": {
      "application/vnd.jupyter.widget-view+json": {
       "model_id": "b0ff278298bd4f42afacfc23cbe4f736",
       "version_major": 2,
       "version_minor": 0
      },
      "text/plain": [
       "  0%|          | 0/10 [00:00<?, ?it/s]"
      ]
     },
     "metadata": {},
     "output_type": "display_data"
    },
    {
     "name": "stdout",
     "output_type": "stream",
     "text": [
      "KyDo\n"
     ]
    },
    {
     "data": {
      "application/vnd.jupyter.widget-view+json": {
       "model_id": "6a9bc69a0ca44dbf93cc700ce86f880f",
       "version_major": 2,
       "version_minor": 0
      },
      "text/plain": [
       "  0%|          | 0/10 [00:00<?, ?it/s]"
      ]
     },
     "metadata": {},
     "output_type": "display_data"
    },
    {
     "name": "stdout",
     "output_type": "stream",
     "text": [
      "Me\n"
     ]
    },
    {
     "data": {
      "application/vnd.jupyter.widget-view+json": {
       "model_id": "a9cc1e44020546a9baaa52d9fdd87ce3",
       "version_major": 2,
       "version_minor": 0
      },
      "text/plain": [
       "  0%|          | 0/10 [00:00<?, ?it/s]"
      ]
     },
     "metadata": {},
     "output_type": "display_data"
    },
    {
     "name": "stdout",
     "output_type": "stream",
     "text": [
      "Ro\n"
     ]
    },
    {
     "data": {
      "application/vnd.jupyter.widget-view+json": {
       "model_id": "76b3eef906a34dd0952b1220707be6cc",
       "version_major": 2,
       "version_minor": 0
      },
      "text/plain": [
       "  0%|          | 0/10 [00:00<?, ?it/s]"
      ]
     },
     "metadata": {},
     "output_type": "display_data"
    },
    {
     "name": "stdout",
     "output_type": "stream",
     "text": [
      "WiWh\n"
     ]
    },
    {
     "data": {
      "application/vnd.jupyter.widget-view+json": {
       "model_id": "01dbed343d0546ceaa5c5dfde5ac0888",
       "version_major": 2,
       "version_minor": 0
      },
      "text/plain": [
       "  0%|          | 0/10 [00:00<?, ?it/s]"
      ]
     },
     "metadata": {},
     "output_type": "display_data"
    },
    {
     "name": "stdout",
     "output_type": "stream",
     "text": [
      "Ja\n"
     ]
    },
    {
     "data": {
      "application/vnd.jupyter.widget-view+json": {
       "model_id": "a9fd18cb38b14cb2b9fda39521855847",
       "version_major": 2,
       "version_minor": 0
      },
      "text/plain": [
       "  0%|          | 0/10 [00:00<?, ?it/s]"
      ]
     },
     "metadata": {},
     "output_type": "display_data"
    },
    {
     "name": "stdout",
     "output_type": "stream",
     "text": [
      "Mi\n"
     ]
    },
    {
     "data": {
      "application/vnd.jupyter.widget-view+json": {
       "model_id": "3b0ec8a5947540e4b8ee9fa9311a7677",
       "version_major": 2,
       "version_minor": 0
      },
      "text/plain": [
       "  0%|          | 0/10 [00:00<?, ?it/s]"
      ]
     },
     "metadata": {},
     "output_type": "display_data"
    }
   ],
   "source": [
    "scales_ = ['Kyte_Doolittle', 'Eisenberg', 'Rose', 'BaMe','BlMo', 'Ei', 'KyDo', 'Me', 'Ro', 'WiWh', 'Ja', 'Mi']\n",
    "\n",
    "for scale in tqdm(scales_, total = len(scales_)):\n",
    "    print(scale)\n",
    "    parallelize_sasa_hydrophobicity(paths, scale)"
   ]
  },
  {
   "cell_type": "code",
   "execution_count": 22,
   "metadata": {},
   "outputs": [
    {
     "data": {
      "text/html": [
       "<div>\n",
       "<style scoped>\n",
       "    .dataframe tbody tr th:only-of-type {\n",
       "        vertical-align: middle;\n",
       "    }\n",
       "\n",
       "    .dataframe tbody tr th {\n",
       "        vertical-align: top;\n",
       "    }\n",
       "\n",
       "    .dataframe thead th {\n",
       "        text-align: right;\n",
       "    }\n",
       "</style>\n",
       "<table border=\"1\" class=\"dataframe\">\n",
       "  <thead>\n",
       "    <tr style=\"text-align: right;\">\n",
       "      <th></th>\n",
       "      <th>HCDR1_HYDRO_pos</th>\n",
       "      <th>HCDR1_HYDRO_neg</th>\n",
       "      <th>HCDR1_HYDRO_net</th>\n",
       "      <th>HCDR2_HYDRO_pos</th>\n",
       "      <th>HCDR2_HYDRO_neg</th>\n",
       "      <th>HCDR2_HYDRO_net</th>\n",
       "      <th>HCDR3_HYDRO_pos</th>\n",
       "      <th>HCDR3_HYDRO_neg</th>\n",
       "      <th>HCDR3_HYDRO_net</th>\n",
       "      <th>HFR1_HYDRO_pos</th>\n",
       "      <th>...</th>\n",
       "      <th>TOTAL_CDR_HYDRO_pos</th>\n",
       "      <th>TOTAL_CDR_HYDRO_neg</th>\n",
       "      <th>TOTAL_CDR_HYDRO_net</th>\n",
       "      <th>TOTAL_FR_HYDRO_pos</th>\n",
       "      <th>TOTAL_FR_HYDRO_neg</th>\n",
       "      <th>TOTAL_FR_HYDRO_net</th>\n",
       "      <th>TOTAL_HYDRO_pos</th>\n",
       "      <th>TOTAL_HYDRO_neg</th>\n",
       "      <th>TOTAL_HYDRO_net</th>\n",
       "      <th>scale</th>\n",
       "    </tr>\n",
       "    <tr>\n",
       "      <th>antibody</th>\n",
       "      <th></th>\n",
       "      <th></th>\n",
       "      <th></th>\n",
       "      <th></th>\n",
       "      <th></th>\n",
       "      <th></th>\n",
       "      <th></th>\n",
       "      <th></th>\n",
       "      <th></th>\n",
       "      <th></th>\n",
       "      <th></th>\n",
       "      <th></th>\n",
       "      <th></th>\n",
       "      <th></th>\n",
       "      <th></th>\n",
       "      <th></th>\n",
       "      <th></th>\n",
       "      <th></th>\n",
       "      <th></th>\n",
       "      <th></th>\n",
       "      <th></th>\n",
       "    </tr>\n",
       "  </thead>\n",
       "  <tbody>\n",
       "    <tr>\n",
       "      <th>abituzumab</th>\n",
       "      <td>4.49</td>\n",
       "      <td>-0.46</td>\n",
       "      <td>4.03</td>\n",
       "      <td>9.56</td>\n",
       "      <td>-2.34</td>\n",
       "      <td>7.22</td>\n",
       "      <td>4.51</td>\n",
       "      <td>-1.08</td>\n",
       "      <td>3.43</td>\n",
       "      <td>8.14</td>\n",
       "      <td>...</td>\n",
       "      <td>30.52</td>\n",
       "      <td>-12.11</td>\n",
       "      <td>18.41</td>\n",
       "      <td>68.68</td>\n",
       "      <td>-42.85</td>\n",
       "      <td>25.83</td>\n",
       "      <td>99.20</td>\n",
       "      <td>-54.96</td>\n",
       "      <td>44.24</td>\n",
       "      <td>Me</td>\n",
       "    </tr>\n",
       "    <tr>\n",
       "      <th>abituzumab</th>\n",
       "      <td>4.27</td>\n",
       "      <td>-0.53</td>\n",
       "      <td>3.74</td>\n",
       "      <td>5.34</td>\n",
       "      <td>-7.11</td>\n",
       "      <td>-1.77</td>\n",
       "      <td>4.28</td>\n",
       "      <td>-1.60</td>\n",
       "      <td>2.68</td>\n",
       "      <td>10.08</td>\n",
       "      <td>...</td>\n",
       "      <td>21.28</td>\n",
       "      <td>-20.26</td>\n",
       "      <td>1.02</td>\n",
       "      <td>59.91</td>\n",
       "      <td>-62.22</td>\n",
       "      <td>-2.31</td>\n",
       "      <td>81.19</td>\n",
       "      <td>-82.48</td>\n",
       "      <td>-1.29</td>\n",
       "      <td>Ro</td>\n",
       "    </tr>\n",
       "    <tr>\n",
       "      <th>abituzumab</th>\n",
       "      <td>5.33</td>\n",
       "      <td>0.00</td>\n",
       "      <td>5.33</td>\n",
       "      <td>11.68</td>\n",
       "      <td>-1.08</td>\n",
       "      <td>10.60</td>\n",
       "      <td>7.22</td>\n",
       "      <td>-0.52</td>\n",
       "      <td>6.70</td>\n",
       "      <td>19.45</td>\n",
       "      <td>...</td>\n",
       "      <td>41.22</td>\n",
       "      <td>-4.96</td>\n",
       "      <td>36.26</td>\n",
       "      <td>118.62</td>\n",
       "      <td>-18.86</td>\n",
       "      <td>99.76</td>\n",
       "      <td>159.84</td>\n",
       "      <td>-23.82</td>\n",
       "      <td>136.02</td>\n",
       "      <td>BaMe</td>\n",
       "    </tr>\n",
       "    <tr>\n",
       "      <th>abituzumab</th>\n",
       "      <td>1.23</td>\n",
       "      <td>-1.58</td>\n",
       "      <td>-0.35</td>\n",
       "      <td>2.57</td>\n",
       "      <td>-15.21</td>\n",
       "      <td>-12.64</td>\n",
       "      <td>1.64</td>\n",
       "      <td>-4.74</td>\n",
       "      <td>-3.10</td>\n",
       "      <td>4.21</td>\n",
       "      <td>...</td>\n",
       "      <td>8.91</td>\n",
       "      <td>-40.76</td>\n",
       "      <td>-31.85</td>\n",
       "      <td>24.96</td>\n",
       "      <td>-95.94</td>\n",
       "      <td>-70.98</td>\n",
       "      <td>33.87</td>\n",
       "      <td>-136.70</td>\n",
       "      <td>-102.83</td>\n",
       "      <td>Ei</td>\n",
       "    </tr>\n",
       "    <tr>\n",
       "      <th>abituzumab</th>\n",
       "      <td>4.06</td>\n",
       "      <td>-0.35</td>\n",
       "      <td>3.71</td>\n",
       "      <td>5.70</td>\n",
       "      <td>-5.65</td>\n",
       "      <td>0.05</td>\n",
       "      <td>3.63</td>\n",
       "      <td>-2.14</td>\n",
       "      <td>1.49</td>\n",
       "      <td>4.35</td>\n",
       "      <td>...</td>\n",
       "      <td>19.80</td>\n",
       "      <td>-21.45</td>\n",
       "      <td>-1.65</td>\n",
       "      <td>36.73</td>\n",
       "      <td>-66.59</td>\n",
       "      <td>-29.86</td>\n",
       "      <td>56.53</td>\n",
       "      <td>-88.04</td>\n",
       "      <td>-31.51</td>\n",
       "      <td>WiWh</td>\n",
       "    </tr>\n",
       "  </tbody>\n",
       "</table>\n",
       "<p>5 rows × 70 columns</p>\n",
       "</div>"
      ],
      "text/plain": [
       "            HCDR1_HYDRO_pos  HCDR1_HYDRO_neg  HCDR1_HYDRO_net  \\\n",
       "antibody                                                        \n",
       "abituzumab             4.49            -0.46             4.03   \n",
       "abituzumab             4.27            -0.53             3.74   \n",
       "abituzumab             5.33             0.00             5.33   \n",
       "abituzumab             1.23            -1.58            -0.35   \n",
       "abituzumab             4.06            -0.35             3.71   \n",
       "\n",
       "            HCDR2_HYDRO_pos  HCDR2_HYDRO_neg  HCDR2_HYDRO_net  \\\n",
       "antibody                                                        \n",
       "abituzumab             9.56            -2.34             7.22   \n",
       "abituzumab             5.34            -7.11            -1.77   \n",
       "abituzumab            11.68            -1.08            10.60   \n",
       "abituzumab             2.57           -15.21           -12.64   \n",
       "abituzumab             5.70            -5.65             0.05   \n",
       "\n",
       "            HCDR3_HYDRO_pos  HCDR3_HYDRO_neg  HCDR3_HYDRO_net  HFR1_HYDRO_pos  \\\n",
       "antibody                                                                        \n",
       "abituzumab             4.51            -1.08             3.43            8.14   \n",
       "abituzumab             4.28            -1.60             2.68           10.08   \n",
       "abituzumab             7.22            -0.52             6.70           19.45   \n",
       "abituzumab             1.64            -4.74            -3.10            4.21   \n",
       "abituzumab             3.63            -2.14             1.49            4.35   \n",
       "\n",
       "            ...  TOTAL_CDR_HYDRO_pos  TOTAL_CDR_HYDRO_neg  \\\n",
       "antibody    ...                                             \n",
       "abituzumab  ...                30.52               -12.11   \n",
       "abituzumab  ...                21.28               -20.26   \n",
       "abituzumab  ...                41.22                -4.96   \n",
       "abituzumab  ...                 8.91               -40.76   \n",
       "abituzumab  ...                19.80               -21.45   \n",
       "\n",
       "            TOTAL_CDR_HYDRO_net  TOTAL_FR_HYDRO_pos  TOTAL_FR_HYDRO_neg  \\\n",
       "antibody                                                                  \n",
       "abituzumab                18.41               68.68              -42.85   \n",
       "abituzumab                 1.02               59.91              -62.22   \n",
       "abituzumab                36.26              118.62              -18.86   \n",
       "abituzumab               -31.85               24.96              -95.94   \n",
       "abituzumab                -1.65               36.73              -66.59   \n",
       "\n",
       "            TOTAL_FR_HYDRO_net  TOTAL_HYDRO_pos  TOTAL_HYDRO_neg  \\\n",
       "antibody                                                           \n",
       "abituzumab               25.83            99.20           -54.96   \n",
       "abituzumab               -2.31            81.19           -82.48   \n",
       "abituzumab               99.76           159.84           -23.82   \n",
       "abituzumab              -70.98            33.87          -136.70   \n",
       "abituzumab              -29.86            56.53           -88.04   \n",
       "\n",
       "            TOTAL_HYDRO_net  scale  \n",
       "antibody                            \n",
       "abituzumab            44.24     Me  \n",
       "abituzumab            -1.29     Ro  \n",
       "abituzumab           136.02   BaMe  \n",
       "abituzumab          -102.83     Ei  \n",
       "abituzumab           -31.51   WiWh  \n",
       "\n",
       "[5 rows x 70 columns]"
      ]
     },
     "execution_count": 22,
     "metadata": {},
     "output_type": "execute_result"
    }
   ],
   "source": [
    "files = [f for f in ls(data_path) if 'sasa' in f.name and f.name.endswith('.csv')]\n",
    "df2 = pd.concat([pd.read_csv(f) for f in files])\n",
    "df2 = df2.set_index('antibody').sort_index()\n",
    "df2.head()"
   ]
  },
  {
   "cell_type": "code",
   "execution_count": 23,
   "metadata": {},
   "outputs": [
    {
     "data": {
      "image/png": "[encoded data removed]",
      "text/plain": [
       "<Figure size 640x480 with 1 Axes>"
      ]
     },
     "metadata": {},
     "output_type": "display_data"
    }
   ],
   "source": [
    "\n",
    "df2.loc['clazakizumab'].set_index('scale')['HCDR1_HYDRO_pos'].sort_values().plot.barh(title= 'Clazakizumab HCDR1 Hydrophobicity')\n",
    "sns.despine()"
   ]
  },
  {
   "cell_type": "code",
   "execution_count": 25,
   "metadata": {},
   "outputs": [],
   "source": [
    "fname = data_path.parent/'sasa_hydrophobicity_descriptors_12-11-2023.csv'\n",
    "df2.to_csv(fname)"
   ]
  },
  {
   "cell_type": "code",
   "execution_count": null,
   "metadata": {},
   "outputs": [],
   "source": []
  }
 ],
 "metadata": {
  "kernelspec": {
   "display_name": "Python 3",
   "language": "python",
   "name": "python3"
  },
  "language_info": {
   "codemirror_mode": {
    "name": "ipython",
    "version": 3
   },
   "file_extension": ".py",
   "mimetype": "text/x-python",
   "name": "python",
   "nbconvert_exporter": "python",
   "pygments_lexer": "ipython3",
   "version": "3.11.5"
  },
  "orig_nbformat": 4
 },
 "nbformat": 4,
 "nbformat_minor": 2
}
